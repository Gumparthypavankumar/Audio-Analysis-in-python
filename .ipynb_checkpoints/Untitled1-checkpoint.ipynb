{
 "cells": [
  {
   "cell_type": "code",
   "execution_count": 1,
   "metadata": {},
   "outputs": [],
   "source": [
    "import pyaudio\n",
    "import struct\n",
    "import numpy as np\n",
    "import matplotlib.pyplot as plt\n",
    "import pandas as pd\n",
    "from glob import glob\n",
    "\n",
    "import librosa as lr"
   ]
  },
  {
   "cell_type": "code",
   "execution_count": 2,
   "metadata": {},
   "outputs": [
    {
     "data": {
      "text/plain": [
       "1"
      ]
     },
     "execution_count": 2,
     "metadata": {},
     "output_type": "execute_result"
    }
   ],
   "source": [
    "data = './voices'\n",
    "\n",
    "audio_file = glob(data + '/*.wav')\n",
    "\n",
    "len(audio_file)"
   ]
  },
  {
   "cell_type": "code",
   "execution_count": 20,
   "metadata": {},
   "outputs": [
    {
     "name": "stdout",
     "output_type": "stream",
     "text": [
      "32811\n",
      "[0.00000000e+00 4.53514739e-05 9.07029478e-05 ... 1.48789116e+00\n",
      " 1.48793651e+00 1.48798186e+00]\n"
     ]
    }
   ],
   "source": [
    "audio, sfreq = lr.load(audio_file[0])\n",
    "\n",
    "time = np.arange(0, len(audio))/sfreq\n",
    "\n",
    "print(audio)\n",
    "print(time)\n",
    "\n",
    "# time"
   ]
  },
  {
   "cell_type": "code",
   "execution_count": 4,
   "metadata": {},
   "outputs": [
    {
     "data": {
      "image/png": "[encoded data removed]",
      "text/plain": [
       "<Figure size 432x288 with 1 Axes>"
      ]
     },
     "metadata": {
      "needs_background": "light"
     },
     "output_type": "display_data"
    }
   ],
   "source": [
    "fig, ax=plt.subplots()\n",
    "\n",
    "ax.plot(time,audio)\n",
    "\n",
    "ax.set(xlabel= 'Time(Sec)', ylabel= 'Amplitude')\n",
    "\n",
    "plt.show()"
   ]
  },
  {
   "cell_type": "code",
   "execution_count": 17,
   "metadata": {},
   "outputs": [],
   "source": [
    "import openpyxl, os, wave\n",
    "\n",
    "# os.chdir(r\"C:\\Users\\Pavan Kumar\\Untitled Folder\\voices\\SmallDoubleCough\")\n",
    "\n",
    "wb = openpyxl.Workbook()\n",
    "\n",
    "sheet = wb['Sheet']\n",
    "\n",
    "r = 3\n",
    "\n",
    "sheet.cell(row = 2, column = 4).value = 'Time(axis)'\n",
    "sheet.cell(row = 2, column = 5).value = 'Amplitude(axis)'\n",
    "\n",
    "# for audio_file in os.listdir(r\"C:\\Users\\Pavan Kumar\\Untitled Folder\\\\voices\"):\n",
    "for i in range(0,len(audio)):\n",
    "    w = wave.open(audio_file[0])\n",
    "    frames = w.getnframes()\n",
    "    sheet.cell(row = r, column = 4).value = time[i]\n",
    "    sheet.cell(row = r, column = 5).value = audio[i]\n",
    "    r += 1\n",
    "\n",
    "wb.save('audiofilesexcel.xlsx')"
   ]
  },
  {
   "cell_type": "code",
   "execution_count": null,
   "metadata": {},
   "outputs": [],
   "source": []
  }
 ],
 "metadata": {
  "kernelspec": {
   "display_name": "Python 3",
   "language": "python",
   "name": "python3"
  },
  "language_info": {
   "codemirror_mode": {
    "name": "ipython",
    "version": 3
   },
   "file_extension": ".py",
   "mimetype": "text/x-python",
   "name": "python",
   "nbconvert_exporter": "python",
   "pygments_lexer": "ipython3",
   "version": "3.7.6"
  }
 },
 "nbformat": 4,
 "nbformat_minor": 4
}
